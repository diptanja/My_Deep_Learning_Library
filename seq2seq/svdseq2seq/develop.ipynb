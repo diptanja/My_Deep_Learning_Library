{
 "cells": [
  {
   "cell_type": "code",
   "execution_count": 28,
   "metadata": {
    "collapsed": false
   },
   "outputs": [],
   "source": [
    "from theano import function, config, shared, tensor\n",
    "import numpy as np\n",
    "import theano\n",
    "import time\n",
    "import sys\n",
    "\n",
    "import load as read_data\n",
    "import custom_config as custom_config\n",
    "import activations as activations\n",
    "import utils as utils"
   ]
  },
  {
   "cell_type": "code",
   "execution_count": 29,
   "metadata": {
    "collapsed": false
   },
   "outputs": [
    {
     "name": "stdout",
     "output_type": "stream",
     "text": [
      "/Users/achanish/Dropbox/My_Deep_Learning_Library/seq2seq/svdseq2seq/../data/mnist/\n",
      "Training data:  (1000, 784) (1000,)\n",
      "Test data:  (100, 784) (100,)\n"
     ]
    }
   ],
   "source": [
    "## Load Data ##\n",
    "datasets_dir = custom_config.datasets_dir\n",
    "\n",
    "trX, teX, trY, teY = read_data.mnist(onehot=False)\n",
    "\n",
    "trX=trX[0:1000,]\n",
    "trY=trY[0:1000]\n",
    "teX=teX[0:100,]\n",
    "teY=teY[0:100]\n",
    "\n",
    "print \"Training data: \", trX.shape, trY.shape\n",
    "print \"Test data: \", teX.shape, teY.shape"
   ]
  },
  {
   "cell_type": "code",
   "execution_count": null,
   "metadata": {
    "collapsed": false
   },
   "outputs": [],
   "source": []
  },
  {
   "cell_type": "code",
   "execution_count": null,
   "metadata": {
    "collapsed": true
   },
   "outputs": [],
   "source": []
  },
  {
   "cell_type": "code",
   "execution_count": 20,
   "metadata": {
    "collapsed": false
   },
   "outputs": [
    {
     "name": "stdout",
     "output_type": "stream",
     "text": [
      "[[ 1.  0.  0.]\n",
      " [ 0.  1.  0.]\n",
      " [ 0.  0.  1.]]\n",
      "[ 1.  1.  1.]\n",
      "1\n",
      "2\n",
      "1.0\n"
     ]
    }
   ],
   "source": [
    "dim = 3\n",
    "H = np.eye(dim)  \n",
    "print(H)\n",
    "D = np.ones(dim,)\n",
    "print(D)\n",
    "for n in range(1,dim):\n",
    "    print n\n",
    "#n=2\n",
    "x = custom_config.rng.normal(size=(dim-n+1,)) #.normal(size=(dim-n+1,))\n",
    "D[n-1] = np.sign(x[0])\n",
    "#print x\n",
    "print np.sign(x[1])"
   ]
  },
  {
   "cell_type": "code",
   "execution_count": 21,
   "metadata": {
    "collapsed": true
   },
   "outputs": [],
   "source": [
    "def rvs(random_state,dim):\n",
    "     H = np.eye(dim)\n",
    "     D = np.ones((dim,))\n",
    "     for n in range(1, dim):\n",
    "         x = random_state.normal(size=(dim-n+1,))\n",
    "         D[n-1] = np.sign(x[0])\n",
    "         x[0] -= D[n-1]*np.sqrt((x*x).sum())\n",
    "         # Householder transformation\n",
    "         Hx = (np.eye(dim-n+1) - 2.*np.outer(x, x)/(x*x).sum())\n",
    "         mat = np.eye(dim)\n",
    "         mat[n-1:, n-1:] = Hx\n",
    "         H = np.dot(H, mat)\n",
    "         # Fix the last sign such that the determinant is 1\n",
    "     D[-1] = (-1)**(1-(dim % 2))*D.prod()\n",
    "     # Equivalent to np.dot(np.diag(D), H) but faster, apparently\n",
    "     H = (D*H.T).T\n",
    "     return H"
   ]
  },
  {
   "cell_type": "code",
   "execution_count": 24,
   "metadata": {
    "collapsed": false
   },
   "outputs": [
    {
     "name": "stdout",
     "output_type": "stream",
     "text": [
      "[[-0.63063109 -0.61462969 -0.47385099]\n",
      " [-0.30221721  0.75685889 -0.57950787]\n",
      " [ 0.71482108 -0.22224976 -0.66305042]]\n",
      "[[  1.00000000e+00   1.66533454e-16   1.66533454e-16]\n",
      " [  1.66533454e-16   1.00000000e+00   1.11022302e-16]\n",
      " [  1.66533454e-16   1.11022302e-16   1.00000000e+00]]\n"
     ]
    }
   ],
   "source": [
    "H = rvs(custom_config.rng , 3)\n",
    "print(H)\n",
    "print(np.dot(H, np.transpose(H)))"
   ]
  },
  {
   "cell_type": "code",
   "execution_count": null,
   "metadata": {
    "collapsed": true
   },
   "outputs": [],
   "source": []
  }
 ],
 "metadata": {
  "anaconda-cloud": {},
  "kernelspec": {
   "display_name": "Python [conda root]",
   "language": "python",
   "name": "conda-root-py"
  },
  "language_info": {
   "codemirror_mode": {
    "name": "ipython",
    "version": 2
   },
   "file_extension": ".py",
   "mimetype": "text/x-python",
   "name": "python",
   "nbconvert_exporter": "python",
   "pygments_lexer": "ipython2",
   "version": "2.7.12"
  }
 },
 "nbformat": 4,
 "nbformat_minor": 1
}
